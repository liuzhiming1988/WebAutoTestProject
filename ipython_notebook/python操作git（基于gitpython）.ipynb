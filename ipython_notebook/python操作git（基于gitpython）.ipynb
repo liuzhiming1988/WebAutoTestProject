{
 "cells": [
  {
   "cell_type": "markdown",
   "id": "6914e9b6",
   "metadata": {},
   "source": [
    "# 安装"
   ]
  },
  {
   "cell_type": "code",
   "execution_count": null,
   "id": "acfb303a",
   "metadata": {},
   "outputs": [],
   "source": [
    "pip install gitpython"
   ]
  },
  {
   "cell_type": "markdown",
   "id": "a413ddc4",
   "metadata": {},
   "source": [
    "# 创建、识别、克隆仓库\n",
    "文件夹地址可以是全路径，也可以是. 当前文件夹、../上级文件夹等用法"
   ]
  },
  {
   "cell_type": "code",
   "execution_count": null,
   "id": "be091f9f",
   "metadata": {},
   "outputs": [],
   "source": [
    "import git\n",
    "# 在文件夹里新建一个仓库，如果已存在git仓库也不报错不覆盖没问题\n",
    "repo = git.Repo.init(path='文件夹地址')\n",
    "\n",
    "# 选择已有仓库\n",
    "repo = git.Repo( '仓库地址' )\n",
    "\n",
    "# 克隆仓库\n",
    "repo = git.Repo.clone_from(url='git@github.com:USER/REPO.git', to_path='../new')"
   ]
  },
  {
   "cell_type": "markdown",
   "id": "160762fb",
   "metadata": {},
   "source": [
    "# 常用语句"
   ]
  },
  {
   "cell_type": "code",
   "execution_count": null,
   "id": "88572e45",
   "metadata": {},
   "outputs": [],
   "source": [
    "# 查看repo状态\n",
    "print repo.git.status()   # 返回通常的status几句信息\n",
    "print repo.is_dirty()    # 返回是否有改动（包括未add和未commit的）\n",
    "\n",
    "# 添加文件 可以是单个文件名，也可以是`[ ]`数组，还可以是`.`代表全部\n",
    "print repo.git.add( '文件名' )\n",
    "\n",
    "# commit提交\n",
    "print(repo.git.commit( m='提交信息' ))"
   ]
  },
  {
   "cell_type": "markdown",
   "id": "a5f4a943",
   "metadata": {},
   "source": [
    "# 远程交互操作"
   ]
  },
  {
   "cell_type": "code",
   "execution_count": null,
   "id": "1affb039",
   "metadata": {},
   "outputs": [],
   "source": [
    "# 创建remote：\n",
    "remote = repo.create_remote(name='gitlab', url='git@gitlab.com:USER/REPO.git')\n",
    "\n",
    "# 远程交互：\n",
    "remote = repo.remote()\n",
    "remote.fetch()\n",
    "remote.pull()\n",
    "remote.push()"
   ]
  },
  {
   "cell_type": "markdown",
   "id": "41ca9675",
   "metadata": {},
   "source": [
    "# 实验效果"
   ]
  },
  {
   "cell_type": "code",
   "execution_count": null,
   "id": "19455a54",
   "metadata": {},
   "outputs": [],
   "source": [
    " # 原意是返回工作区是否改变的状态\n",
    "# 但是测试发现，工作区有变动它返回False，没变动却返回True\n",
    "print(repo.is_dirty())"
   ]
  },
  {
   "cell_type": "markdown",
   "id": "2e1c7edb",
   "metadata": {},
   "source": [
    "# 生成tar压缩包"
   ]
  },
  {
   "cell_type": "code",
   "execution_count": null,
   "id": "62bacbc3",
   "metadata": {},
   "outputs": [],
   "source": [
    "# 压缩到 tar 文件\n",
    "with open('repo.tar', 'wb') as fp:\n",
    "    repo.archive(fp)"
   ]
  },
  {
   "cell_type": "markdown",
   "id": "ca3c9da9",
   "metadata": {},
   "source": [
    "# 暂存区对象"
   ]
  },
  {
   "cell_type": "code",
   "execution_count": null,
   "id": "aabc9b7c",
   "metadata": {},
   "outputs": [],
   "source": [
    "index = repo.index  # 获取暂存区对象\n",
    "index.add(['new.txt']) # add操作\n",
    "index.remove(['old.txt']) # 删除暂存区对象\n",
    "index.commit('this is a test') # 提交"
   ]
  },
  {
   "cell_type": "markdown",
   "id": "509935b9",
   "metadata": {},
   "source": [
    "# 直接执行原生命令"
   ]
  },
  {
   "cell_type": "code",
   "execution_count": null,
   "id": "71b45c87",
   "metadata": {},
   "outputs": [],
   "source": [
    "git = repo.git # 通过Repo对象获取git对象\n",
    "git.add('test1.txt') # git add test1.txt\n",
    "git.commit('-m', 'this is a test') # git commit -m 'this is a test'"
   ]
  },
  {
   "cell_type": "markdown",
   "id": "c7fc439e",
   "metadata": {},
   "source": [
    "备注： 这里要注意一点原生的git命令会有两种参数形式，一种是：命令 --参数关键字 参数；一种是：命令 --参数关键字=参数；这两种转化时要用如下形式，总之空格要用逗号区分，并且注意顺序："
   ]
  },
  {
   "cell_type": "code",
   "execution_count": null,
   "id": "e4645111",
   "metadata": {},
   "outputs": [],
   "source": [
    "# 第一种情况\n",
    "repo.git.reset(\"--hard\", \"3ab65we\")\n",
    " \n",
    "# 第二中情况\n",
    "repo.git.log(\"--date=short\", \"--pretty=format:%H:%h:%an:%ad:%cd:%cn:%s\")"
   ]
  },
  {
   "cell_type": "code",
   "execution_count": null,
   "id": "cbf6c7e7",
   "metadata": {},
   "outputs": [],
   "source": [
    "# 版本库是否为空版本库\n",
    "repo.bare\n",
    "\n",
    "# 版本库中未跟踪的文件列表\n",
    "repo.untracked_files\n",
    "\n",
    "# 新建分支\n",
    "repo.create_head('branchname')\n",
    "\n",
    "# 查看当前分支\n",
    "repo.active_branch\n"
   ]
  },
  {
   "cell_type": "code",
   "execution_count": 1,
   "id": "ffe36416",
   "metadata": {},
   "outputs": [],
   "source": [
    "    def create_tag_push(self, tag_name, remark):\n",
    "        \"\"\"创建tag\"\"\"\n",
    "        # 原生命令\n",
    "        # self.git.tag(tag_name, remark)\n",
    "        # self.git.push(\"origin\", tag_name)\n",
    "        # repo方式\n",
    "        self.repo.create_tag(tag_name, message=remark)\n",
    "        flag = True\n",
    "        n = 0\n",
    "        while flag:\n",
    "            n += 1\n",
    "            print(\"第{}次尝试\".format(n))\n",
    "            try:\n",
    "                self.repo.remotes.origin.push(tag_name)\n",
    "                flag = False\n",
    "                print(\"第{}次提交：提交成功\".format(n))\n",
    "            except Exception as ec:\n",
    "                print(\"提交失败：\\n{}\".format(repr(ec)))"
   ]
  },
  {
   "cell_type": "code",
   "execution_count": null,
   "id": "7a47a83e",
   "metadata": {},
   "outputs": [],
   "source": []
  }
 ],
 "metadata": {
  "kernelspec": {
   "display_name": "Python 3 (ipykernel)",
   "language": "python",
   "name": "python3"
  },
  "language_info": {
   "codemirror_mode": {
    "name": "ipython",
    "version": 3
   },
   "file_extension": ".py",
   "mimetype": "text/x-python",
   "name": "python",
   "nbconvert_exporter": "python",
   "pygments_lexer": "ipython3",
   "version": "3.9.0"
  }
 },
 "nbformat": 4,
 "nbformat_minor": 5
}
