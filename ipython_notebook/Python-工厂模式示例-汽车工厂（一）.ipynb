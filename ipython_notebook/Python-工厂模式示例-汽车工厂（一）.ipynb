{
 "cells": [
  {
   "cell_type": "markdown",
   "id": "fb531d49",
   "metadata": {},
   "source": [
    "工厂模式，顾名思义就是我们可以通过一个指定的“工厂”获得需要的“产品”，在设计模式中主要用于抽象对象的创建过程，让用户可以指定自己想要的对象而不必关心对象的实例化过程。这样做的好处是用户只需通过固定的接口而不是直接去调用类的实例化方法来获得一个对象的实例，隐藏了实例创建过程的复杂度，解耦了生产实例和使用实例的代码，降低了维护的复杂性。\n",
    "\n",
    "本文会用Python实现三种工厂模式的简单例子，所有代码都托管在Github上。\n"
   ]
  },
  {
   "cell_type": "markdown",
   "id": "35ddeef5",
   "metadata": {},
   "source": [
    "## 一、简单工厂"
   ]
  },
  {
   "cell_type": "code",
   "execution_count": 1,
   "id": "48cca3fa",
   "metadata": {},
   "outputs": [],
   "source": [
    "# coding=utf-8\n",
    "\n",
    "\n",
    "class Mercedes:\n",
    "    \"\"\"梅赛德斯\"\"\"\n",
    "    def __init__(self):\n",
    "        print(\"梅赛德斯类被创建\")\n",
    "        \n",
    "    def repr(self):\n",
    "        return \"Mercedes-Benz\"\n",
    " \n",
    "\n",
    "class BMW:\n",
    "    \"\"\"宝马\"\"\"\n",
    "    def __init__(self):\n",
    "        print(\"宝马类被创建\")\n",
    "        \n",
    "    def repr(self):\n",
    "        return \"BMW\""
   ]
  },
  {
   "cell_type": "markdown",
   "id": "56bf5179",
   "metadata": {},
   "source": [
    "假设我们有两个“产品”分别是Mercedes和BMW的汽车，如果没有 工厂 来生产他们，我们就要在代码中自己进行实例化，如："
   ]
  },
  {
   "cell_type": "code",
   "execution_count": 2,
   "id": "c65fc03d",
   "metadata": {},
   "outputs": [
    {
     "name": "stdout",
     "output_type": "stream",
     "text": [
      "梅赛德斯类被创建\n",
      "宝马类被创建\n"
     ]
    }
   ],
   "source": [
    "mercedes = Mercedes()\n",
    "bmw = BMW()"
   ]
  },
  {
   "cell_type": "markdown",
   "id": "d3673f2d",
   "metadata": {},
   "source": [
    "但现实中，你可能会面对很多汽车产品，而且每个产品的构造参数还不一样，这样在创建实例时会遇到麻烦。这时就可以构造一个 简单工厂 把所有汽车实例化的过程封装在里面"
   ]
  },
  {
   "cell_type": "code",
   "execution_count": 3,
   "id": "9af6c786",
   "metadata": {},
   "outputs": [],
   "source": [
    "class SimpleCarFactory:\n",
    "    \"\"\"简单工厂\"\"\"\n",
    "    @staticmethod\n",
    "    def product_car(name):\n",
    "        if name == \"mb\":\n",
    "            return Mercedes()\n",
    "        elif name == \"bmw\":\n",
    "            return BMW()\n",
    "    \n",
    "        "
   ]
  },
  {
   "cell_type": "markdown",
   "id": "c0814169",
   "metadata": {},
   "source": [
    "有了SimpleFactory类后，就可以通过向固定的接口传入参数获得想要的对象实例，如下："
   ]
  },
  {
   "cell_type": "code",
   "execution_count": 4,
   "id": "9415de0c",
   "metadata": {},
   "outputs": [
    {
     "name": "stdout",
     "output_type": "stream",
     "text": [
      "梅赛德斯类被创建\n",
      "宝马类被创建\n"
     ]
    }
   ],
   "source": [
    "c1 = SimpleCarFactory.product_car(\"mb\")\n",
    "c2 = SimpleCarFactory.product_car(\"bmw\")"
   ]
  },
  {
   "cell_type": "markdown",
   "id": "557e6c97",
   "metadata": {},
   "source": [
    "## 二、工厂方法\n",
    "虽然有了一个简单的工厂，但在实际使用工厂的过程中，我们会发现新问题：如果我们要新增一个产品，例如Audi的汽车，我们除了新增一个Audi类外，还要修改SimpleCarFactory内的product_car方法。这样就违背了软件设计中的开闭原则，即在扩展新的类时，尽量不要修改原有代码，所以我们再简单工厂的基础上把SimpleCarFactory抽象成不同的工厂，每个工厂对应生成自己的产品，这就是工厂方法。"
   ]
  },
  {
   "cell_type": "code",
   "execution_count": 5,
   "id": "ec0dc52c",
   "metadata": {},
   "outputs": [],
   "source": [
    "import abc\n",
    "\n",
    "class AbstractFactory:\n",
    "    \"\"\"抽象工厂\"\"\"\n",
    "    metaclass = abc.ABCMeta\n",
    "    \n",
    "    @abc.abstractmethod\n",
    "    def product_car(self):\n",
    "        pass\n",
    "    \n",
    "    \n",
    "class MercedesFactory(AbstractFactory):\n",
    "    \"\"\"梅赛德斯工厂\"\"\"\n",
    "    def product_car(self):\n",
    "        return Mercedes()\n",
    "    \n",
    "class BMWFactory(AbstractFactory):\n",
    "    \"\"\"宝马工厂\"\"\"\n",
    "    def product_car(self):\n",
    "        return BMW()"
   ]
  },
  {
   "cell_type": "markdown",
   "id": "cdd72353",
   "metadata": {},
   "source": [
    "我们把工厂抽象出来用abc模块实现了一个抽象的基类AbstractFactory，这样就可以通过特定的工厂来获得特定的产品实例了："
   ]
  },
  {
   "cell_type": "code",
   "execution_count": 6,
   "id": "8931d951",
   "metadata": {},
   "outputs": [
    {
     "name": "stdout",
     "output_type": "stream",
     "text": [
      "梅赛德斯类被创建\n",
      "宝马类被创建\n"
     ]
    }
   ],
   "source": [
    "c1 = MercedesFactory().product_car()\n",
    "c2 = BMWFactory().product_car()"
   ]
  },
  {
   "cell_type": "markdown",
   "id": "36a15e00",
   "metadata": {},
   "source": [
    "每个工厂负责生产自己的产品也避免了我们在新增产品时需要修改工厂的代码，而只要增加相应的工厂即可。如新增一个Audi产品，只需新增一个Audi类和AudiFactory类。"
   ]
  },
  {
   "cell_type": "markdown",
   "id": "821a3407",
   "metadata": {},
   "source": [
    "## 三、抽象工厂\n",
    "工厂方法虽然解决了我们“修改代码”的问题，但如果我们要生产很多产品，就好发现我们同样需要写很多对应的工厂类。比如如果MercedesFactory和BMWFactory不仅生产小汽车，还要生产SUV，那我们用工厂方法就要再多构造两个生产SUV的工厂类。所以为了解决这个问题，我们就要再更进一步的抽象工厂类，让一个工厂可以生产同一类的多个产品，这就是抽象工厂。具体实现如下："
   ]
  },
  {
   "cell_type": "code",
   "execution_count": 7,
   "id": "3fbf4a33",
   "metadata": {},
   "outputs": [],
   "source": [
    "# coding=utf-8\n",
    "import abc\n",
    "\n",
    "# 两种小汽车\n",
    "class Mercedes_C63:\n",
    "    \"\"\"梅赛德斯C63\"\"\"\n",
    "    def repr(self):\n",
    "        return \"Mercedes-Benz:C63\"\n",
    "    \n",
    "class BMW_M3:\n",
    "    \"\"\"宝马 M3\"\"\"\n",
    "    def repr(self):\n",
    "        return \"BMW:M3\"\n",
    "    \n",
    "# 两种SUV\n",
    "class Mercedes_G63:\n",
    "    \"\"\"梅赛德斯 G63\"\"\"\n",
    "    def repr(self):\n",
    "        return \"Mercedes-Benz:G63\"\n",
    "    \n",
    "class BMW_X5:\n",
    "    \"\"\"宝马 X5\"\"\"\n",
    "    def repr(self):\n",
    "        return \"BMW:X5\"\n",
    "    \n",
    "    \n",
    "class AbstractFactory:\n",
    "    \"\"\"抽象工厂，可以生产小汽车，也可以生产SUV\"\"\"\n",
    "    \n",
    "    metaclass = abc.ABCMeta\n",
    "    \n",
    "    @abc.abstractmethod\n",
    "    def product_car(self):\n",
    "        pass\n",
    "    \n",
    "    @abc.abstractmethod\n",
    "    def product_suv(self):\n",
    "        pass\n",
    "    \n",
    "\n",
    "class MercedesFactory(AbstractFactory):\n",
    "    \"\"\"梅赛德斯工厂\"\"\"\n",
    "    def product_car(self):\n",
    "            return Mercedes_C63()\n",
    "\n",
    "    def product_suv(self):\n",
    "        return Mercedes_G63()\n",
    "\n",
    "    \n",
    "class BMWFactory(AbstractFactory):\n",
    "    \"\"\"宝马工厂\"\"\"\n",
    "    def product_car(self):\n",
    "        return BMW_M3()\n",
    "\n",
    "    def product_suv(self):\n",
    "        return BMW_X5()\n"
   ]
  },
  {
   "cell_type": "markdown",
   "id": "dd831dde",
   "metadata": {},
   "source": [
    "我们让基类AbstractFactory同时可以生产汽车和SUV，然后令MercedesFactory和BMWFactory继承AbstractFactory并重写product_car和product_suv方法即可。"
   ]
  },
  {
   "cell_type": "code",
   "execution_count": 8,
   "id": "86d43dd5",
   "metadata": {},
   "outputs": [
    {
     "name": "stdout",
     "output_type": "stream",
     "text": [
      "<__main__.Mercedes_C63 object at 0x000001F04A08CF70> <__main__.Mercedes_G63 object at 0x000001F04A0591C0>\n",
      "<__main__.BMW_M3 object at 0x000001F04A08C610> <__main__.BMW_X5 object at 0x000001F04A08C2B0>\n"
     ]
    }
   ],
   "source": [
    "c1 = MercedesFactory().product_car()\n",
    "\n",
    "s1 = MercedesFactory().product_suv()\n",
    "\n",
    "print(c1, s1)\n",
    "\n",
    "s2 = BMWFactory().product_suv()\n",
    "\n",
    "c2 = BMWFactory().product_car()\n",
    "\n",
    "print(c2, s2)"
   ]
  },
  {
   "cell_type": "markdown",
   "id": "ca555935",
   "metadata": {},
   "source": [
    "抽象工厂模式与工厂方法模式最大的区别在于，抽象工厂中的一个工厂对象可以负责多个不同产品对象的创建 ，这样比工厂方法模式更为简单、有效率。"
   ]
  },
  {
   "cell_type": "markdown",
   "id": "2d6753c2",
   "metadata": {},
   "source": [
    "## 结论\n",
    "初学设计模式时会对三种工厂模式的实际应用比较困惑，其实三种模式各有优缺点，应用的场景也不尽相同：\n",
    "\n",
    "简单工厂模式适用于需创建的对象较少，不会造成工厂方法中的业务逻辑太过复杂的情况下，而且用户只关心那种类型的实例被创建，并不关心其初始化过程时，比如多种数据库(MySQL/MongoDB)的实例，多种格式文件的解析器(XML/JSON)等。\n",
    "\n",
    "工厂方法模式继承了简单工厂模式的优点又有所改进，其不再通过一个工厂类来负责所有产品的创建，而是将具体创建工作交给相应的子类去做，这使得工厂方法模式可以允许系统能够更高效的扩展。实际应用中可以用来实现系统的日志系统等，比如具体的程序运行日志，网络日志，数据库日志等都可以用具体的工厂类来创建。\n",
    "\n",
    "抽象工厂模式在工厂方法基础上扩展了工厂对多个产品创建的支持，更适合一些大型系统，比如系统中有多于一个的产品族，且这些产品族类的产品需实现同样的接口，像很多软件系统界面中不同主题下不同的按钮、文本框、字体等等。"
   ]
  }
 ],
 "metadata": {
  "kernelspec": {
   "display_name": "Python 3 (ipykernel)",
   "language": "python",
   "name": "python3"
  },
  "language_info": {
   "codemirror_mode": {
    "name": "ipython",
    "version": 3
   },
   "file_extension": ".py",
   "mimetype": "text/x-python",
   "name": "python",
   "nbconvert_exporter": "python",
   "pygments_lexer": "ipython3",
   "version": "3.9.0"
  }
 },
 "nbformat": 4,
 "nbformat_minor": 5
}
