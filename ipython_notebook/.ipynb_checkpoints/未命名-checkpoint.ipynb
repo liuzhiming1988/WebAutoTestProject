{
 "cells": [
  {
   "cell_type": "code",
   "execution_count": 2,
   "id": "9451a9ba",
   "metadata": {},
   "outputs": [
    {
     "name": "stdout",
     "output_type": "stream",
     "text": [
      "cba987\n",
      "6\n"
     ]
    }
   ],
   "source": [
    "str_a = \"789abc\"\n",
    "print(str_a[::-1])\n",
    "print(len(str_a))"
   ]
  },
  {
   "cell_type": "code",
   "execution_count": 13,
   "id": "a0c80a20",
   "metadata": {},
   "outputs": [
    {
     "name": "stdout",
     "output_type": "stream",
     "text": [
      "false\n",
      "请传入字符串\n"
     ]
    },
    {
     "data": {
      "text/plain": [
       "False"
      ]
     },
     "execution_count": 13,
     "metadata": {},
     "output_type": "execute_result"
    }
   ],
   "source": [
    "def is_huiwen(st):\n",
    "    if isinstance(st,str):\n",
    "        pass\n",
    "    else:\n",
    "        print(\"请传入字符串\")\n",
    "        return False\n",
    "    \n",
    "    if st == st[::-1]:\n",
    "        print(\"true: {}\".format(st))\n",
    "        return True\n",
    "    else:\n",
    "        print(\"false\")\n",
    "        return False\n",
    "\n",
    "str_b = \"121211\"\n",
    "b = 12121\n",
    "\n",
    "is_huiwen(str_b)\n",
    "\n",
    "is_huiwen(b)"
   ]
  },
  {
   "cell_type": "code",
   "execution_count": null,
   "id": "74831e53",
   "metadata": {},
   "outputs": [],
   "source": []
  },
  {
   "cell_type": "code",
   "execution_count": null,
   "id": "afb450ed",
   "metadata": {},
   "outputs": [],
   "source": []
  }
 ],
 "metadata": {
  "kernelspec": {
   "display_name": "Python 3 (ipykernel)",
   "language": "python",
   "name": "python3"
  },
  "language_info": {
   "codemirror_mode": {
    "name": "ipython",
    "version": 3
   },
   "file_extension": ".py",
   "mimetype": "text/x-python",
   "name": "python",
   "nbconvert_exporter": "python",
   "pygments_lexer": "ipython3",
   "version": "3.9.0"
  }
 },
 "nbformat": 4,
 "nbformat_minor": 5
}
