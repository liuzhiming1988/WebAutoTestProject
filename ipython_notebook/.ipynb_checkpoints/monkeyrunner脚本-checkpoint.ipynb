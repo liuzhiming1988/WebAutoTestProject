{
 "cells": [
  {
   "cell_type": "code",
   "execution_count": null,
   "id": "c377558e",
   "metadata": {},
   "outputs": [],
   "source": [
    "\n",
    "# 引入本程序所用到的模块\n",
    "from com.android.monkeyrunner import MonkeyRunner, MonkeyDevice, MonkeyImage\n",
    " \n",
    " # 连接手机设备\n",
    " device = MonkeyRunner.waitForConnection()\n",
    " \n",
    "# 截图\n",
    "result = device.takeSnapshot()\n",
    "# 将截图保存到文件 \n",
    "result.writeToFile('E:\\\\JAVA\\\\monkeyrunner\\\\Test1\\\\Test1_001.png','png')\n",
    "\n",
    "# 卸载APP\n",
    "device.removePackage('cn.richinfo.thinkdrive')\n",
    "print ('Uninstall Success!')\n",
    "\n",
    "# 暂停5秒\n",
    "MonkeyRunner.sleep(5)\n",
    "\n",
    "# 截图\n",
    "result = device.takeSnapshot()\n",
    "result.writeToFile('E:\\\\JAVA\\\\monkeyrunner\\\\Test1\\\\Test1_002.png','png')\n",
    "\n",
    "# 安装新的APP\n",
    "device.installPackage('E:\\\\JAVA\\\\monkeyrunner\\\\Test1\\\\ThinkDrive_new.apk')\n",
    "print ('Install Success!')\n",
    "\n",
    "# 截图\n",
    "result = device.takeSnapshot()\n",
    "result.writeToFile('E:\\\\JAVA\\\\monkeyrunner\\\\Test1\\\\Test1_003.png','png')"
   ]
  },
  {
   "cell_type": "code",
   "execution_count": null,
   "id": "1e73739a",
   "metadata": {},
   "outputs": [],
   "source": []
  }
 ],
 "metadata": {
  "kernelspec": {
   "display_name": "Python 3 (ipykernel)",
   "language": "python",
   "name": "python3"
  },
  "language_info": {
   "codemirror_mode": {
    "name": "ipython",
    "version": 3
   },
   "file_extension": ".py",
   "mimetype": "text/x-python",
   "name": "python",
   "nbconvert_exporter": "python",
   "pygments_lexer": "ipython3",
   "version": "3.9.0"
  }
 },
 "nbformat": 4,
 "nbformat_minor": 5
}
