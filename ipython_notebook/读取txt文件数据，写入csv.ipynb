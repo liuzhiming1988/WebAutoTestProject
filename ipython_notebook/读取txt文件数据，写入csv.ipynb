{
 "cells": [
  {
   "cell_type": "markdown",
   "id": "298ab0cd",
   "metadata": {},
   "source": [
    "## 一、从txt中读取数据，并按照如下格式写入到csv文件中\n",
    "### 1、txt原始数据\n",
    "```    \n",
    "    #自有VPC测试环境replace后台管理系统\n",
    "\n",
    "    182.254.197.228 api-server.hsb.com\n",
    "\n",
    "    182.254.197.228 replace-server.huishoubao.com.cn\n",
    "\n",
    "    182.254.197.228 replace-admin.huishoubao.com\n",
    "\n",
    "    182.254.197.228 replace-f2e.huishoubao.com\n",
    "\n",
    "    182.254.197.228 api-access.huishoubao.com\n",
    "\n",
    "\n",
    "\n",
    "    #自有VPC测试环境OSS运营管理系统\n",
    "\n",
    "    182.254.197.228 oss.huishoubao.com\n",
    "\n",
    "```\n",
    "\n",
    "### 2、需转换成csv格式如下：\n",
    "\n",
    "<img src=\"./img/csv_.png\" width = \"95%\" align=\"middle\">\n",
    "\n",
    "\n",
    "### 3、分析\n",
    "\n",
    "伪代码逻辑：\n",
    "\n",
    "* 1、首先需将txt源数据读取出来\n",
    "* 2、洗数据：需要去掉空行\n",
    "* 3、按空格进行分割，把行数据的IP和域名分隔开\n",
    "* 4、分割后可能会出现空元素（IP和域名间有多个空格时会产生），再洗一次数据，清除掉空元素\n",
    "* 5、写入csv文件，并保存\n",
    "\n",
    "## 二、实现如下："
   ]
  },
  {
   "cell_type": "code",
   "execution_count": null,
   "id": "40c99d27",
   "metadata": {},
   "outputs": [],
   "source": [
    "#!/usr/local/bin/python3\n",
    "# -*- coding: utf-8 -*-\n",
    "import csv\n",
    "\n",
    "data = []\n",
    "new_data = []\n",
    "\n",
    "with open(\"d:\\host_.txt\", \"r\", encoding=\"UTF-8\") as txt:\n",
    "    data = txt.readlines()\n",
    "\n",
    "# 清洗数据，去除空行及换行符，将有效数据添加到新的列表中\n",
    "for x in range(len(data)):\n",
    "    t = data[x]\n",
    "    data[x] = t.strip().strip(\"\\n\")\n",
    "    if len(data[x]) > 0:\n",
    "        new_data.append(data[x])\n",
    "\n",
    "# 写入csv\n",
    "with open(\"d:\\\\vpc-host.csv\", \"w\", encoding=\"gbk\", newline=\"\") as c:\n",
    "    writer = csv.writer(c)\n",
    "    for d in new_data:\n",
    "        res = d.split(\" \")\n",
    "        # 洗掉每行的空元素\n",
    "        new_res = []\n",
    "        for x in res:\n",
    "            if len(x) > 0:\n",
    "                new_res.append(x)\n",
    "        # print(new_res)\n",
    "        writer.writerow(new_res)\n"
   ]
  },
  {
   "cell_type": "markdown",
   "id": "55ad08d5",
   "metadata": {},
   "source": [
    "### 1、多行写入\n",
    "writerows方法 -》 对应源数据格式 ([1, 2, 3], [1,5])"
   ]
  },
  {
   "cell_type": "code",
   "execution_count": 3,
   "id": "6df4d077",
   "metadata": {},
   "outputs": [],
   "source": [
    "#!/usr/local/bin/python3\n",
    "# -*- coding: utf-8 -*-\n",
    "import csv\n",
    "\n",
    "raw_data =  ([\"用户名\", \"手机号\", \"姓名\"], [\"username\", \"152200000\"])\n",
    "with open(\"d:\\\\test.csv\", \"w\", encoding=\"gbk\", newline=\"\") as c:\n",
    "    writer = csv.writer(c)\n",
    "    writer.writerows(raw_data)"
   ]
  },
  {
   "cell_type": "markdown",
   "id": "35330762",
   "metadata": {},
   "source": [
    "<img src=\"./img/csv_1.png\" width = \"40%\" align=\"left\">"
   ]
  },
  {
   "cell_type": "markdown",
   "id": "371b3bba",
   "metadata": {},
   "source": [
    "* `newline=\"\"`是为了写入csv文件后不会出现有空行的情况\n",
    "* 逐行写入：`file.writerow(content)`\n",
    "* 多行写入：`file.writerows(content)`\n",
    "\n",
    "content最好为列表，每一个元素对应一个单元格\n",
    "\n",
    "### 2、读写模式\n",
    "要了解文件读写模式，需要了解几种模式的区别，以及对应指针\n",
    "\n",
    "r :   读取文件，若文件不存在则会报错\n",
    "\n",
    "w:   写入文件，若文件不存在则会先创建再写入，会覆盖原文件\n",
    "\n",
    "a :   写入文件，若文件不存在则会先创建再写入，但不会覆盖原文件，而是追加在文件末尾\n",
    "\n",
    "rb,wb：  分别于r,w类似，但是用于读写二进制文件\n",
    "\n",
    "r+ :   可读、可写，文件不存在也会报错，写操作时会覆盖\n",
    "\n",
    "w+ :   可读，可写，文件不存在先创建，会覆盖\n",
    "\n",
    "a+ :  可读、可写，文件不存在先创建，不会覆盖，追加在末尾\n"
   ]
  },
  {
   "cell_type": "markdown",
   "id": "e247e28c",
   "metadata": {},
   "source": [
    "### 3、读取Txt文本\n",
    "常用的读取文件函数有三种read()、readline()、readlines() \n",
    "\n",
    "read()    一次性读全部内容\n",
    "一次性读取文本中全部的内容，以字符串的形式返回结果\n",
    "\n",
    "readline()    读取第一行内容\n",
    "只读取文本第一行的内容，以字符串的形式返回结果\n",
    "\n",
    "readlines()     列表\n",
    "读取文本所有内容，并且以数列的格式返回结果，一般配合for in使用\n",
    "\n",
    "readlines会读到换行符，可用如下方法去除：\n",
    "\n",
    "```python\n",
    "with open(\"test.txt\", \"r\") as f:\n",
    "    for line in f.readlines():\n",
    "        line = line.strip('\\n')  #去掉列表中每一个元素的换行符\n",
    "        print(line)\n",
    "```"
   ]
  },
  {
   "cell_type": "markdown",
   "id": "eb8bec65",
   "metadata": {},
   "source": [
    "### 4、写入txt文本\n",
    "\n",
    "```python\n",
    "with open(\"test.txt\",\"w\") as f:\n",
    "    f.write(\"这是个测试！\")  # 自带文件关闭功能，不需要再写f.close()\n",
    "```"
   ]
  },
  {
   "cell_type": "code",
   "execution_count": null,
   "id": "96d8971a",
   "metadata": {},
   "outputs": [],
   "source": []
  }
 ],
 "metadata": {
  "kernelspec": {
   "display_name": "Python 3 (ipykernel)",
   "language": "python",
   "name": "python3"
  },
  "language_info": {
   "codemirror_mode": {
    "name": "ipython",
    "version": 3
   },
   "file_extension": ".py",
   "mimetype": "text/x-python",
   "name": "python",
   "nbconvert_exporter": "python",
   "pygments_lexer": "ipython3",
   "version": "3.9.0"
  }
 },
 "nbformat": 4,
 "nbformat_minor": 5
}
